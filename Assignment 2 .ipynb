{
 "cells": [
  {
   "cell_type": "code",
   "execution_count": 11,
   "id": "c64dc3df",
   "metadata": {},
   "outputs": [],
   "source": [
    "import pandas as pd"
   ]
  },
  {
   "cell_type": "code",
   "execution_count": 12,
   "id": "32dfbd82",
   "metadata": {},
   "outputs": [],
   "source": [
    "data=pd.read_csv('D:/Masters/total.csv',low_memory= False, memory_map=True)"
   ]
  },
  {
   "cell_type": "code",
   "execution_count": 13,
   "id": "f158a857",
   "metadata": {},
   "outputs": [
    {
     "name": "stdout",
     "output_type": "stream",
     "text": [
      "<class 'pandas.core.frame.DataFrame'>\n",
      "RangeIndex: 312882 entries, 0 to 312881\n",
      "Data columns (total 9 columns):\n",
      " #   Column            Non-Null Count   Dtype  \n",
      "---  ------            --------------   -----  \n",
      " 0   EmployeeName      312882 non-null  object \n",
      " 1   JobTitle          312882 non-null  object \n",
      " 2   BasePay           312882 non-null  object \n",
      " 3   OvertimePay       312882 non-null  object \n",
      " 4   OtherPay          312882 non-null  object \n",
      " 5   Benefits          312882 non-null  object \n",
      " 6   TotalPay          312882 non-null  float64\n",
      " 7   TotalPayBenefits  312882 non-null  float64\n",
      " 8   Year              312882 non-null  int64  \n",
      "dtypes: float64(2), int64(1), object(6)\n",
      "memory usage: 21.5+ MB\n"
     ]
    }
   ],
   "source": [
    "data.info()\n"
   ]
  },
  {
   "cell_type": "code",
   "execution_count": 14,
   "id": "08d8a595",
   "metadata": {},
   "outputs": [
    {
     "data": {
      "text/html": [
       "<div>\n",
       "<style scoped>\n",
       "    .dataframe tbody tr th:only-of-type {\n",
       "        vertical-align: middle;\n",
       "    }\n",
       "\n",
       "    .dataframe tbody tr th {\n",
       "        vertical-align: top;\n",
       "    }\n",
       "\n",
       "    .dataframe thead th {\n",
       "        text-align: right;\n",
       "    }\n",
       "</style>\n",
       "<table border=\"1\" class=\"dataframe\">\n",
       "  <thead>\n",
       "    <tr style=\"text-align: right;\">\n",
       "      <th></th>\n",
       "      <th>TotalPay</th>\n",
       "      <th>TotalPayBenefits</th>\n",
       "      <th>Year</th>\n",
       "    </tr>\n",
       "  </thead>\n",
       "  <tbody>\n",
       "    <tr>\n",
       "      <th>count</th>\n",
       "      <td>312882.000000</td>\n",
       "      <td>312882.000000</td>\n",
       "      <td>312882.000000</td>\n",
       "    </tr>\n",
       "    <tr>\n",
       "      <th>mean</th>\n",
       "      <td>78802.645788</td>\n",
       "      <td>100928.339777</td>\n",
       "      <td>2014.625303</td>\n",
       "    </tr>\n",
       "    <tr>\n",
       "      <th>std</th>\n",
       "      <td>53230.758542</td>\n",
       "      <td>66485.186495</td>\n",
       "      <td>2.290899</td>\n",
       "    </tr>\n",
       "    <tr>\n",
       "      <th>min</th>\n",
       "      <td>-618.130000</td>\n",
       "      <td>-3628.780000</td>\n",
       "      <td>2011.000000</td>\n",
       "    </tr>\n",
       "    <tr>\n",
       "      <th>25%</th>\n",
       "      <td>38803.000000</td>\n",
       "      <td>48955.072500</td>\n",
       "      <td>2013.000000</td>\n",
       "    </tr>\n",
       "    <tr>\n",
       "      <th>50%</th>\n",
       "      <td>74908.790000</td>\n",
       "      <td>100011.290000</td>\n",
       "      <td>2015.000000</td>\n",
       "    </tr>\n",
       "    <tr>\n",
       "      <th>75%</th>\n",
       "      <td>111386.897500</td>\n",
       "      <td>142376.300000</td>\n",
       "      <td>2017.000000</td>\n",
       "    </tr>\n",
       "    <tr>\n",
       "      <th>max</th>\n",
       "      <td>592394.340000</td>\n",
       "      <td>712802.360000</td>\n",
       "      <td>2018.000000</td>\n",
       "    </tr>\n",
       "  </tbody>\n",
       "</table>\n",
       "</div>"
      ],
      "text/plain": [
       "            TotalPay  TotalPayBenefits           Year\n",
       "count  312882.000000     312882.000000  312882.000000\n",
       "mean    78802.645788     100928.339777    2014.625303\n",
       "std     53230.758542      66485.186495       2.290899\n",
       "min      -618.130000      -3628.780000    2011.000000\n",
       "25%     38803.000000      48955.072500    2013.000000\n",
       "50%     74908.790000     100011.290000    2015.000000\n",
       "75%    111386.897500     142376.300000    2017.000000\n",
       "max    592394.340000     712802.360000    2018.000000"
      ]
     },
     "execution_count": 14,
     "metadata": {},
     "output_type": "execute_result"
    }
   ],
   "source": [
    "data.describe()\n"
   ]
  },
  {
   "cell_type": "code",
   "execution_count": 15,
   "id": "e733274d",
   "metadata": {},
   "outputs": [],
   "source": [
    "\n",
    "def get_details(employee_name):\n",
    "    name_match= data[data['EmployeeName']==employee_name]\n",
    "    \n",
    "    if name_match.empty:\n",
    "        return \"No records found for:\" + employee_name\n",
    "\n",
    "    record= name_match.iloc[0]\n",
    "    \n",
    "    details={\n",
    "        \n",
    "    \"Employee name\": record['EmployeeName'],\n",
    "    \"Position\":record['JobTitle'],\n",
    "    \"Base pay\":record['BasePay'],\n",
    "    \"Overtime\":record['OvertimePay'],\n",
    "    \"Other pay\":record['OtherPay'],\n",
    "    \"Benefits\": record['Benefits'],\n",
    "    \"Total pay\":record['TotalPay'],\n",
    "    \"Total pay and benefits\":record['TotalPayBenefits'],\n",
    "    \"Year\": record['Year']\n",
    "}\n",
    "\n",
    "    return(details)"
   ]
  },
  {
   "cell_type": "code",
   "execution_count": 16,
   "id": "9dd5d64e",
   "metadata": {},
   "outputs": [
    {
     "name": "stdout",
     "output_type": "stream",
     "text": [
      "{2012: np.float64(2724848200.44)}\n"
     ]
    }
   ],
   "source": [
    "def get_yearly(yearly_analysis):\n",
    "    year_match = data[data['Year'] == yearly_analysis]\n",
    "    \n",
    "    if year_match.empty:\n",
    "        return f\"No records found for year {yearly_analysis}\"\n",
    "    \n",
    "    total_pay = year_match['TotalPay'].sum()\n",
    "    \n",
    "    return {yearly_analysis: total_pay}\n",
    "\n",
    "print(get_yearly(2012))"
   ]
  },
  {
   "cell_type": "code",
   "execution_count": 17,
   "id": "91aad5d9",
   "metadata": {},
   "outputs": [
    {
     "name": "stdout",
     "output_type": "stream",
     "text": [
      "{'Mayor': np.float64(2426490.01)}\n"
     ]
    }
   ],
   "source": [
    "def get_pay_per_job(job_title):\n",
    "    job_match = data[data['JobTitle'].str.lower() == job_title.lower()]\n",
    "    \n",
    "    if job_match.empty:\n",
    "        return f\"No records found for title {job_title}\"\n",
    "    \n",
    "    total_pay = job_match['TotalPay'].sum()\n",
    "    \n",
    "    return {job_title: total_pay}\n",
    "\n",
    "print(get_pay_per_job('Mayor'))"
   ]
  },
  {
   "cell_type": "code",
   "execution_count": 18,
   "id": "fc3b48d9",
   "metadata": {},
   "outputs": [],
   "source": [
    "def get_pay_per_job(job_pay):\n",
    "    try:\n",
    "        # Check if 'JobTitle' and 'TotalPay' columns exist\n",
    "        if 'JobTitle' not in data.columns or 'TotalPay' not in data.columns:\n",
    "            return \"Required columns are missing in the dataset.\"\n",
    "        \n",
    "        # Filter job title (case-insensitive)\n",
    "        job_match = data[data['JobTitle'].str.lower() == job_pay.lower()]\n",
    "        \n",
    "        if job_match.empty:\n",
    "            return f\"No records found for job title: {job_pay}\"\n",
    "        \n",
    "        # Try converting TotalPay to numeric in case of string values\n",
    "        job_match['TotalPay'] = pd.to_numeric(job_match['TotalPay'], errors='coerce')\n",
    "        total_pay = job_match['TotalPay'].sum(skipna=True)\n",
    "        \n",
    "        return {job_pay.title(): round(total_pay, 2)}\n",
    "\n",
    "    except Exception as e:\n",
    "        return f\"An error occurred: {str(e)}\""
   ]
  },
  {
   "cell_type": "code",
   "execution_count": 19,
   "id": "ee3ebc19",
   "metadata": {},
   "outputs": [
    {
     "name": "stdout",
     "output_type": "stream",
     "text": [
      "No records found for employee: Ed Lee\n"
     ]
    }
   ],
   "source": [
    "import pandas as pd\n",
    "import os\n",
    "import zipfile\n",
    "\n",
    "def export_employee_profile(employee_name):\n",
    "    # Filter employee details\n",
    "    match = data[data['EmployeeName'] == employee_name]\n",
    "\n",
    "    if match.empty:\n",
    "        return f\"No records found for employee: {employee_name}\"\n",
    "\n",
    "    # Create a DataFrame with just this record\n",
    "    employee_data = match.copy()\n",
    "\n",
    "    # Step 1: Create output folder and file name\n",
    "    output_folder = \"Employee Profile\"\n",
    "    csv_filename = f\"{employee_name.replace(' ', '_')}_profile.csv\"\n",
    "    csv_path = os.path.join(output_folder, csv_filename)\n",
    "\n",
    "    # Step 2: Ensure output folder exists\n",
    "    os.makedirs(output_folder, exist_ok=True)\n",
    "\n",
    "    # Step 3: Save CSV file\n",
    "    employee_data.to_csv(csv_path, index=False)\n",
    "\n",
    "    # Step 4: Zip the folder\n",
    "    zip_filename = \"Employee_Profile.zip\"\n",
    "    with zipfile.ZipFile(zip_filename, \"w\", zipfile.ZIP_DEFLATED) as zipf:\n",
    "        zipf.write(csv_path, arcname=os.path.join(\"Employee Profile\", csv_filename))\n",
    "\n",
    "    return f\"Profile exported successfully to '{zip_filename}'\"\n",
    "\n",
    "# 🧪 Example usage:\n",
    "print(export_employee_profile(\"Ed Lee\"))"
   ]
  }
 ],
 "metadata": {
  "kernelspec": {
   "display_name": "Python 3",
   "language": "python",
   "name": "python3"
  },
  "language_info": {
   "codemirror_mode": {
    "name": "ipython",
    "version": 3
   },
   "file_extension": ".py",
   "mimetype": "text/x-python",
   "name": "python",
   "nbconvert_exporter": "python",
   "pygments_lexer": "ipython3",
   "version": "3.11.5"
  }
 },
 "nbformat": 4,
 "nbformat_minor": 5
}
